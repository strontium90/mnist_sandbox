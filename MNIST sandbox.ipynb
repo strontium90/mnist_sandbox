{
 "cells": [
  {
   "cell_type": "markdown",
   "id": "a92be957-bb37-4421-ad7b-6c82a66dc31b",
   "metadata": {},
   "source": [
    "## Library import statements"
   ]
  },
  {
   "cell_type": "code",
   "execution_count": 16,
   "id": "86cb4cdb-61d3-46de-b4d5-aca67e3ffbe5",
   "metadata": {},
   "outputs": [],
   "source": [
    "import time\n",
    "import datetime\n",
    "\n",
    "import torch\n",
    "import torch.nn as nn\n",
    "import torch.optim as optim\n",
    "from torchvision import datasets\n",
    "from torchvision.transforms import Compose, ToTensor, Normalize, \\\n",
    "                                   RandomRotation, InterpolationMode\n",
    "from torch.utils.tensorboard import SummaryWriter"
   ]
  },
  {
   "cell_type": "markdown",
   "id": "8e1e26c3-1bad-42a5-80f1-beec54718894",
   "metadata": {},
   "source": [
    "## Import statements for own modules"
   ]
  },
  {
   "cell_type": "code",
   "execution_count": 17,
   "id": "11a16e5e-1c20-4757-8e97-a53a7cae3d86",
   "metadata": {},
   "outputs": [],
   "source": [
    "import network\n",
    "from train_val import train_loop, validation_loop, update_graphs"
   ]
  },
  {
   "cell_type": "markdown",
   "id": "a09f7a1d-3be8-4461-906c-045d7e1a4ba3",
   "metadata": {},
   "source": [
    "## Training hyper-parameter settings "
   ]
  },
  {
   "cell_type": "code",
   "execution_count": 18,
   "id": "8f15aebd-807a-4305-b0db-a2645d9736ae",
   "metadata": {},
   "outputs": [],
   "source": [
    "epochs = 10\n",
    "learning_rate = 1e-3\n",
    "weight_decay = 0.001\n",
    "mbatch_size = 32\n",
    "mbatch_group = -1\n",
    "num_workers = 8"
   ]
  },
  {
   "cell_type": "markdown",
   "id": "e35010b2-1299-44ec-bad4-b331d595b04c",
   "metadata": {},
   "source": [
    "## Create target device"
   ]
  },
  {
   "cell_type": "code",
   "execution_count": 19,
   "id": "552e4298-faa7-4ee9-9047-6ea357ca5c37",
   "metadata": {},
   "outputs": [
    {
     "name": "stdout",
     "output_type": "stream",
     "text": [
      "Using cuda device.\n"
     ]
    }
   ],
   "source": [
    "device = (\n",
    "    \"cuda\"\n",
    "    if torch.cuda.is_available()\n",
    "    else \"mps\"\n",
    "    if torch.backends.mps.is_available()\n",
    "    else \"cpu\"\n",
    ")\n",
    "print(f\"Using {device} device.\")"
   ]
  },
  {
   "cell_type": "markdown",
   "id": "c6fcbddf-8896-46fa-870b-a26e39dcfc79",
   "metadata": {},
   "source": [
    "## Load data"
   ]
  },
  {
   "cell_type": "code",
   "execution_count": 20,
   "id": "c5f32837-b77f-4526-9ac9-a9d6ec5e26c3",
   "metadata": {},
   "outputs": [],
   "source": [
    "test_transform = Compose([ToTensor(),\n",
    "                          Normalize((0.1307,), (0.3081,))])\n",
    "\n",
    "# use data augmentation for training set\n",
    "train_transform = Compose([RandomRotation([-20, 20], \n",
    "                           InterpolationMode.BILINEAR),\n",
    "                           test_transform])\n",
    "\n",
    "train_set = datasets.MNIST(root='./data', train=True,\n",
    "                           download=True, transform=train_transform)\n",
    "test_set = datasets.MNIST(root='./data', train=False,\n",
    "                          download=True, transform=test_transform)\n",
    "\n",
    "train_loader = torch.utils.data.DataLoader(train_set, batch_size=mbatch_size,\n",
    "                                          shuffle=True, num_workers=num_workers)\n",
    "\n",
    "test_loader = torch.utils.data.DataLoader(test_set, batch_size=mbatch_size,\n",
    "                                         shuffle=False, num_workers=num_workers)\n",
    "                                         \n",
    "num_classes = len(train_set.classes)"
   ]
  },
  {
   "cell_type": "markdown",
   "id": "d41e6742-f5b1-4784-8a2c-9e8051d50347",
   "metadata": {},
   "source": [
    "## Create network"
   ]
  },
  {
   "cell_type": "code",
   "execution_count": 21,
   "id": "b502ea4d-aedb-4386-a20e-c69cbe569151",
   "metadata": {},
   "outputs": [],
   "source": [
    "net = network.Net()\n",
    "net = net.to(device)"
   ]
  },
  {
   "cell_type": "markdown",
   "id": "57ae29ef-d7a3-4b62-a43c-3372a2a6de18",
   "metadata": {},
   "source": [
    "## Display network architecture"
   ]
  },
  {
   "cell_type": "code",
   "execution_count": 22,
   "id": "f885ef65-6528-41a6-bfaa-03e08fc7a04a",
   "metadata": {},
   "outputs": [
    {
     "data": {
      "text/plain": [
       "===================================================================================================================\n",
       "Layer (type:depth-idx)                   Input Shape               Output Shape              Param #\n",
       "===================================================================================================================\n",
       "Net                                      [1, 1, 28, 28]            [1, 10]                   --\n",
       "├─Conv2d: 1-1                            [1, 1, 28, 28]            [1, 6, 24, 24]            156\n",
       "├─Conv2d: 1-2                            [1, 6, 12, 12]            [1, 16, 8, 8]             2,416\n",
       "├─Linear: 1-3                            [1, 256]                  [1, 120]                  30,840\n",
       "├─Linear: 1-4                            [1, 120]                  [1, 84]                   10,164\n",
       "├─Linear: 1-5                            [1, 84]                   [1, 10]                   850\n",
       "===================================================================================================================\n",
       "Total params: 44,426\n",
       "Trainable params: 44,426\n",
       "Non-trainable params: 0\n",
       "Total mult-adds (M): 0.29\n",
       "===================================================================================================================\n",
       "Input size (MB): 0.00\n",
       "Forward/backward pass size (MB): 0.04\n",
       "Params size (MB): 0.18\n",
       "Estimated Total Size (MB): 0.22\n",
       "==================================================================================================================="
      ]
     },
     "execution_count": 22,
     "metadata": {},
     "output_type": "execute_result"
    }
   ],
   "source": [
    "from torchinfo import summary\n",
    "summary(net, input_size=(1, 1, 28, 28), col_names=[\"input_size\", \"output_size\", \"num_params\"])"
   ]
  },
  {
   "cell_type": "markdown",
   "id": "fee8b021-1ea5-48f3-8108-d5bf8fbb93c9",
   "metadata": {},
   "source": [
    "## Creat loss function and optimizer"
   ]
  },
  {
   "cell_type": "code",
   "execution_count": 23,
   "id": "74234a00-7dd0-4075-a572-48c56a28161d",
   "metadata": {},
   "outputs": [],
   "source": [
    "criterion = nn.CrossEntropyLoss()\n",
    "optimizer = optim.Adam(net.parameters(), lr=learning_rate, weight_decay=weight_decay)"
   ]
  },
  {
   "cell_type": "markdown",
   "id": "604b96ba-b6b9-4cf9-aa95-904f08ddce97",
   "metadata": {},
   "source": [
    "## Create Tensorboard writer"
   ]
  },
  {
   "cell_type": "code",
   "execution_count": 24,
   "id": "1d63a77b-2172-4a04-b8dc-a1c556eaf800",
   "metadata": {},
   "outputs": [],
   "source": [
    "timestamp = datetime.datetime.now().strftime('%d-%m-%Y_%H:%M:%S')\n",
    "logdir_name = \"./runs/mnist_sandbox_{}\".format(timestamp)\n",
    "summary_writer = SummaryWriter(logdir_name)"
   ]
  },
  {
   "cell_type": "markdown",
   "id": "ff326f69-4d33-497a-91c1-7cd9d634ae4f",
   "metadata": {},
   "source": [
    "## Run Tensorboard "
   ]
  },
  {
   "cell_type": "code",
   "execution_count": 25,
   "id": "78194f4c-a660-4210-bbba-ed3ae06b27b1",
   "metadata": {},
   "outputs": [
    {
     "name": "stdout",
     "output_type": "stream",
     "text": [
      "The tensorboard extension is already loaded. To reload it, use:\n",
      "  %reload_ext tensorboard\n"
     ]
    },
    {
     "data": {
      "text/html": [
       "\n",
       "      <iframe id=\"tensorboard-frame-54d18691006752a8\" width=\"100%\" height=\"800\" frameborder=\"0\">\n",
       "      </iframe>\n",
       "      <script>\n",
       "        (function() {\n",
       "          const frame = document.getElementById(\"tensorboard-frame-54d18691006752a8\");\n",
       "          const url = new URL(\"/\", window.location);\n",
       "          const port = 6009;\n",
       "          if (port) {\n",
       "            url.port = port;\n",
       "          }\n",
       "          frame.src = url;\n",
       "        })();\n",
       "      </script>\n",
       "    "
      ],
      "text/plain": [
       "<IPython.core.display.HTML object>"
      ]
     },
     "metadata": {},
     "output_type": "display_data"
    }
   ],
   "source": [
    "%load_ext tensorboard\n",
    "%tensorboard --logdir $logdir_name"
   ]
  },
  {
   "cell_type": "markdown",
   "id": "3c192be8-7626-4e21-bf74-0d8615a3ed29",
   "metadata": {},
   "source": [
    "## Train and validation loop"
   ]
  },
  {
   "cell_type": "code",
   "execution_count": 26,
   "id": "360a52c9-af30-4d0e-9d59-7ec3adfe4db8",
   "metadata": {},
   "outputs": [
    {
     "name": "stdout",
     "output_type": "stream",
     "text": [
      "EPOCH    1 ----------------------------------------------------------------------\n",
      "EPOCH    2 ----------------------------------------------------------------------\n",
      "EPOCH    3 ----------------------------------------------------------------------\n",
      "EPOCH    4 ----------------------------------------------------------------------\n",
      "EPOCH    5 ----------------------------------------------------------------------\n",
      "EPOCH    6 ----------------------------------------------------------------------\n",
      "EPOCH    7 ----------------------------------------------------------------------\n",
      "EPOCH    8 ----------------------------------------------------------------------\n",
      "EPOCH    9 ----------------------------------------------------------------------\n",
      "EPOCH   10 ----------------------------------------------------------------------\n",
      "Finished training for 10 epochs in 47.01894927024841 seconds.\n"
     ]
    }
   ],
   "source": [
    "training_time = 0\n",
    "\n",
    "for t in range(epochs):\n",
    "    print(f\"EPOCH {t+1:4d}\", 70*\"-\", flush=True)\n",
    "\n",
    "    tic = time.time()\n",
    "    train_loop(train_loader, net, criterion, optimizer, device)\n",
    "    toc = time.time()\n",
    "    training_time += (toc - tic)\n",
    "    train_res = validation_loop(train_loader, net, criterion, num_classes, device)\n",
    "    test_res = validation_loop(test_loader, net, criterion, num_classes, device)    \n",
    "    update_graphs(summary_writer, t, train_res, test_res)\n",
    "\n",
    "summary_writer.close()\n",
    "print(f\"Finished training for {epochs} epochs in {training_time} seconds.\")"
   ]
  },
  {
   "cell_type": "code",
   "execution_count": null,
   "id": "7c36ac63-928c-4c8f-8bf9-624315a1660a",
   "metadata": {},
   "outputs": [],
   "source": []
  }
 ],
 "metadata": {
  "kernelspec": {
   "display_name": "Python 3 (ipykernel)",
   "language": "python",
   "name": "python3"
  },
  "language_info": {
   "codemirror_mode": {
    "name": "ipython",
    "version": 3
   },
   "file_extension": ".py",
   "mimetype": "text/x-python",
   "name": "python",
   "nbconvert_exporter": "python",
   "pygments_lexer": "ipython3",
   "version": "3.10.12"
  }
 },
 "nbformat": 4,
 "nbformat_minor": 5
}
