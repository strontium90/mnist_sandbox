{
 "cells": [
  {
   "cell_type": "markdown",
   "id": "a92be957-bb37-4421-ad7b-6c82a66dc31b",
   "metadata": {},
   "source": [
    "## Library import statements"
   ]
  },
  {
   "cell_type": "code",
   "execution_count": null,
   "id": "86cb4cdb-61d3-46de-b4d5-aca67e3ffbe5",
   "metadata": {},
   "outputs": [],
   "source": [
    "import time\n",
    "import datetime\n",
    "\n",
    "import torch\n",
    "import torch.nn as nn\n",
    "import torch.optim as optim\n",
    "from torchvision import datasets\n",
    "from torchvision.transforms import Compose, ToTensor, Normalize, \\\n",
    "                                   RandomRotation, InterpolationMode\n",
    "from torch.utils.tensorboard import SummaryWriter"
   ]
  },
  {
   "cell_type": "markdown",
   "id": "8e1e26c3-1bad-42a5-80f1-beec54718894",
   "metadata": {},
   "source": [
    "## Import statements for own modules"
   ]
  },
  {
   "cell_type": "code",
   "execution_count": null,
   "id": "11a16e5e-1c20-4757-8e97-a53a7cae3d86",
   "metadata": {},
   "outputs": [],
   "source": [
    "import network\n",
    "from train_val import train_loop, validation_loop, update_graphs"
   ]
  },
  {
   "cell_type": "markdown",
   "id": "a09f7a1d-3be8-4461-906c-045d7e1a4ba3",
   "metadata": {},
   "source": [
    "## Training hyper-parameter settings "
   ]
  },
  {
   "cell_type": "code",
   "execution_count": null,
   "id": "8f15aebd-807a-4305-b0db-a2645d9736ae",
   "metadata": {},
   "outputs": [],
   "source": [
    "epochs = 10\n",
    "learning_rate = 1e-3\n",
    "weight_decay = 0.001\n",
    "mbatch_size = 32\n",
    "mbatch_group = -1\n",
    "num_workers = 8"
   ]
  },
  {
   "cell_type": "markdown",
   "id": "e35010b2-1299-44ec-bad4-b331d595b04c",
   "metadata": {},
   "source": [
    "## Create target device"
   ]
  },
  {
   "cell_type": "code",
   "execution_count": null,
   "id": "552e4298-faa7-4ee9-9047-6ea357ca5c37",
   "metadata": {},
   "outputs": [],
   "source": [
    "device = (\n",
    "    \"cuda\"\n",
    "    if torch.cuda.is_available()\n",
    "    else \"mps\"\n",
    "    if torch.backends.mps.is_available()\n",
    "    else \"cpu\"\n",
    ")\n",
    "print(f\"Using {device} device.\")"
   ]
  },
  {
   "cell_type": "markdown",
   "id": "c6fcbddf-8896-46fa-870b-a26e39dcfc79",
   "metadata": {},
   "source": [
    "## Load data"
   ]
  },
  {
   "cell_type": "code",
   "execution_count": null,
   "id": "c5f32837-b77f-4526-9ac9-a9d6ec5e26c3",
   "metadata": {},
   "outputs": [],
   "source": [
    "test_transform = Compose([ToTensor(),\n",
    "                          Normalize((0.1307,), (0.3081,))])\n",
    "\n",
    "# use data augmentation for training set\n",
    "train_transform = Compose([RandomRotation([-20, 20], \n",
    "                           InterpolationMode.BILINEAR),\n",
    "                           test_transform])\n",
    "\n",
    "train_set = datasets.MNIST(root='./data', train=True,\n",
    "                           download=True, transform=train_transform)\n",
    "test_set = datasets.MNIST(root='./data', train=False,\n",
    "                          download=True, transform=test_transform)\n",
    "\n",
    "train_loader = torch.utils.data.DataLoader(train_set, batch_size=mbatch_size,\n",
    "                                          shuffle=True, num_workers=num_workers)\n",
    "\n",
    "test_loader = torch.utils.data.DataLoader(test_set, batch_size=mbatch_size,\n",
    "                                         shuffle=False, num_workers=num_workers)\n",
    "                                         \n",
    "num_classes = len(train_set.classes)"
   ]
  },
  {
   "cell_type": "markdown",
   "id": "d41e6742-f5b1-4784-8a2c-9e8051d50347",
   "metadata": {},
   "source": [
    "## Create network"
   ]
  },
  {
   "cell_type": "code",
   "execution_count": null,
   "id": "b502ea4d-aedb-4386-a20e-c69cbe569151",
   "metadata": {},
   "outputs": [],
   "source": [
    "net = network.Net()\n",
    "net = net.to(device)"
   ]
  },
  {
   "cell_type": "markdown",
   "id": "57ae29ef-d7a3-4b62-a43c-3372a2a6de18",
   "metadata": {},
   "source": [
    "## Display network architecture"
   ]
  },
  {
   "cell_type": "code",
   "execution_count": null,
   "id": "f885ef65-6528-41a6-bfaa-03e08fc7a04a",
   "metadata": {},
   "outputs": [],
   "source": [
    "from torchinfo import summary\n",
    "summary(net, input_size=(1, 1, 28, 28), col_names=[\"input_size\", \"output_size\", \"num_params\"])"
   ]
  },
  {
   "cell_type": "markdown",
   "id": "fee8b021-1ea5-48f3-8108-d5bf8fbb93c9",
   "metadata": {},
   "source": [
    "## Create loss function and optimizer"
   ]
  },
  {
   "cell_type": "code",
   "execution_count": null,
   "id": "74234a00-7dd0-4075-a572-48c56a28161d",
   "metadata": {},
   "outputs": [],
   "source": [
    "criterion = nn.CrossEntropyLoss()\n",
    "optimizer = optim.Adam(net.parameters(), lr=learning_rate, weight_decay=weight_decay)"
   ]
  },
  {
   "cell_type": "markdown",
   "id": "604b96ba-b6b9-4cf9-aa95-904f08ddce97",
   "metadata": {},
   "source": [
    "## Create Tensorboard writer"
   ]
  },
  {
   "cell_type": "code",
   "execution_count": null,
   "id": "1d63a77b-2172-4a04-b8dc-a1c556eaf800",
   "metadata": {},
   "outputs": [],
   "source": [
    "timestamp = datetime.datetime.now().strftime('%d-%m-%Y_%H:%M:%S')\n",
    "logdir_name = \"./runs/mnist_sandbox_{}\".format(timestamp)\n",
    "summary_writer = SummaryWriter(logdir_name)"
   ]
  },
  {
   "cell_type": "markdown",
   "id": "ff326f69-4d33-497a-91c1-7cd9d634ae4f",
   "metadata": {},
   "source": [
    "## Run Tensorboard "
   ]
  },
  {
   "cell_type": "code",
   "execution_count": null,
   "id": "78194f4c-a660-4210-bbba-ed3ae06b27b1",
   "metadata": {},
   "outputs": [],
   "source": [
    "%load_ext tensorboard\n",
    "%tensorboard --logdir $logdir_name"
   ]
  },
  {
   "cell_type": "markdown",
   "id": "3c192be8-7626-4e21-bf74-0d8615a3ed29",
   "metadata": {},
   "source": [
    "## Train and validation loop"
   ]
  },
  {
   "cell_type": "code",
   "execution_count": null,
   "id": "360a52c9-af30-4d0e-9d59-7ec3adfe4db8",
   "metadata": {},
   "outputs": [],
   "source": [
    "training_time = 0\n",
    "\n",
    "for t in range(epochs):\n",
    "    print(f\"EPOCH {t+1:4d}\", 70*\"-\", flush=True)\n",
    "\n",
    "    tic = time.time()\n",
    "    train_loop(train_loader, net, criterion, optimizer, device)\n",
    "    toc = time.time()\n",
    "    training_time += (toc - tic)\n",
    "    train_res = validation_loop(train_loader, net, criterion, num_classes, device)\n",
    "    test_res = validation_loop(test_loader, net, criterion, num_classes, device)    \n",
    "    update_graphs(summary_writer, t, train_res, test_res)\n",
    "\n",
    "summary_writer.close()\n",
    "print(f\"Finished training for {epochs} epochs in {training_time} seconds.\")"
   ]
  },
  {
   "cell_type": "code",
   "execution_count": null,
   "id": "7c36ac63-928c-4c8f-8bf9-624315a1660a",
   "metadata": {},
   "outputs": [],
   "source": []
  }
 ],
 "metadata": {
  "kernelspec": {
   "display_name": "Python 3 (ipykernel)",
   "language": "python",
   "name": "python3"
  },
  "language_info": {
   "codemirror_mode": {
    "name": "ipython",
    "version": 3
   },
   "file_extension": ".py",
   "mimetype": "text/x-python",
   "name": "python",
   "nbconvert_exporter": "python",
   "pygments_lexer": "ipython3",
   "version": "3.10.12"
  }
 },
 "nbformat": 4,
 "nbformat_minor": 5
}
